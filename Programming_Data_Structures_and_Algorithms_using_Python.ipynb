{
  "nbformat": 4,
  "nbformat_minor": 0,
  "metadata": {
    "colab": {
      "name": "Programming Data Structures and Algorithms using Python",
      "private_outputs": true,
      "provenance": [],
      "authorship_tag": "ABX9TyNAi4L+1zmce5WE67hVx5YM",
      "include_colab_link": true
    },
    "kernelspec": {
      "name": "python3",
      "display_name": "Python 3"
    },
    "language_info": {
      "name": "python"
    }
  },
  "cells": [
    {
      "cell_type": "markdown",
      "metadata": {
        "id": "view-in-github",
        "colab_type": "text"
      },
      "source": [
        "<a href=\"https://colab.research.google.com/github/AbhinavSingh-21f1002369/IITM/blob/main/Programming_Data_Structures_and_Algorithms_using_Python.ipynb\" target=\"_parent\"><img src=\"https://colab.research.google.com/assets/colab-badge.svg\" alt=\"Open In Colab\"/></a>"
      ]
    },
    {
      "cell_type": "markdown",
      "source": [
        "# PDSA May 2022 Term "
      ],
      "metadata": {
        "id": "KPUc_UGuMJox"
      }
    },
    {
      "cell_type": "markdown",
      "source": [
        "## **Programming, Data Structures and Algorithms using Python**\n",
        "\n",
        "A good foundation course to introduce basic concepts in the design and analysis of algorithms as well as standard data structures, using Python as a base language for implementing these.\n",
        "\n",
        "> by Madhavan Mukund\n",
        "\n",
        "> Course ID: `BSCCS2002`\n",
        "\n",
        "Course Credits: 4\n",
        "\n",
        "Course Type: Programming\n",
        "\n",
        "Pre-requisites: None\n",
        "\n"
      ],
      "metadata": {
        "id": "j37LbfDpSiA-"
      }
    },
    {
      "cell_type": "markdown",
      "source": [
        "### **What you’ll learn**\n",
        "\n",
        "Evaluating asymptotic upper bounds for algorithms using big O notation\n",
        "\n",
        "Using standard data structures such as lists, arrays, stacks, queues, heaps\n",
        "\n",
        "Comparing algorithms for sorting and searching\n",
        "Representing, manipulating and analysing graphs\n",
        "\n",
        "Mastering algorithm design techniques such as divide and conquer and dynamic programming\n",
        "\n",
        "Applying linear programming and network flows to model computational problems.\n"
      ],
      "metadata": {
        "id": "hgeIB7taTCy9"
      }
    },
    {
      "cell_type": "markdown",
      "source": [
        "### **Course structure & Assessments**\n",
        "\n",
        "12 weeks of coursework, weekly online assignments, 3 in-person invigilated quizzes, 1 in-person invigilated end term exam. For details of standard course structure and assessments, visit Academics page.\n",
        "\n",
        "> WEEK 1\tPython Refresher\n",
        "\n",
        "> WEEK 2\tComplexity, Notations, Sorting and Searching Algorithms\n",
        "\n",
        "> WEEK 3\tArrays, Lists, Stacks, Queues, Hashing\n",
        "\n",
        "> WEEK 4\tGraph Algorithms\n",
        "\n",
        "> WEEK 5\tGraph Algorithms (Continued)\n",
        "\n",
        "> WEEK 6\tUnion-Find Data Structure, Priority Queue, Heap, Binary Search Tree\n",
        "\n",
        "> WEEK 7\tBalanced Search Tree, Greedy Algorithms\n",
        "\n",
        "> WEEK 8\tDivide and Conquer\n",
        "\n",
        "> WEEK 9\tDynamic Programming\n",
        "\n",
        "> WEEK 10\tString or Pattern Matching Algorithms\n",
        "\n",
        "> WEEK 11\tNetwork Flows, Linear Programming, Class of Algorithms\n",
        "\n",
        "> WEEK 12\tSummary"
      ],
      "metadata": {
        "id": "Cat35DRiTS1p"
      }
    },
    {
      "cell_type": "markdown",
      "source": [
        "\n",
        "\n",
        "## Useful Links\n",
        "\n",
        "1.   [Google Calendar](https://calendar.google.com/calendar/u/0/r?cid=Y19sODdobDBhZWIwOHY3NzY5bjJiZmI0cHVvb0Bncm91cC5jYWxlbmRhci5nb29nbGUuY29t)\n",
        "2.   [Orientation Session - May 2022](https://youtu.be/bELY_OI6FYw)\n",
        "3.   [Course Playlist](https://youtube.com/playlist?list=PLZ2ps__7DhBaDccbZRgiU1sHX2gZrQ-XT)\n",
        "4.   [Grading Pattern](https://docs.google.com/document/d/e/2PACX-1vR-mr2PmlcyeHtd9fhMshT9gqcFuOzl7vYeUv569YQmhR1U2IuPgeauSOG5jzrA9Xfs7nADylOiJk60/pub)\n",
        "5.   [Calendar - May 2022](https://calendar.google.com/calendar/u/5?cid=Y19sODdobDBhZWIwOHY3NzY5bjJiZmI0cHVvb0Bncm91cC5jYWxlbmRhci5nb29nbGUuY29t)\n",
        "6.   [Live Sessions Google Sheet](https://docs.google.com/spreadsheets/d/e/2PACX-1vTP2oOZYhZbnilBOy0tWfNHxy0ePyOwdWLQjYB1bR1ZEb3pqLgeIfhg-QMwmwL4JYt84yLRZMtai9X9/pubhtml?gid=1281904601&single=true)\n",
        "7.   [Announcements - Google Groups](https://groups.google.com/a/onlinedegree.iitm.ac.in/g/22t2-cs2002-announce)\n",
        "8.   [Course Page](https://onlinedegree.iitm.ac.in/course_pages/BSCCS2002.html)\n",
        "\n",
        "\n",
        "\n",
        "\n",
        "\n"
      ],
      "metadata": {
        "id": "ioATfXLnF2zM"
      }
    },
    {
      "cell_type": "markdown",
      "source": [
        "### Old Live Sessions\n",
        "\n",
        "1.   [Sep 2021](https://youtube.com/playlist?list=PLZ2ps__7DhBZUUi4g6govlec5iI_Tgmqa)\n",
        "2.   [Jan 2022](https://youtube.com/playlist?list=PLZ2ps__7DhBZCzKx_2cXpmcVdNAJQzs4V)"
      ],
      "metadata": {
        "id": "Vafb1kUyQf4c"
      }
    },
    {
      "cell_type": "markdown",
      "source": [
        "### Sugggested Books by Course Instructors\n",
        "\n",
        "1.   Algorithm Design, by Jon Kleinberg and Evá Tardos - | [Amazon](https://www.amazon.in/Algorithm-Design-1e-Kleinberg/dp/9332518645/ref=sr_1_3?keywords=Algorithm+Design%2C+by+Jon+Kleinberg+and+Ev%C3%A1+Tardos&qid=1651470452&sr=8-3) | [PDF](https://github.com/davie890/CS102-Algorithm-Analysis/raw/master/Algorithm%20Design%20by%20Jon%20Kleinberg%2C%20Eva%20Tardos.pdf) |\n",
        "2.   Introduction to Algorithms, by Thomas H. Cormen, Charles E. Leiserson, Ronald L. Rivest and Clifford Stein - | [Amazon](https://www.amazon.in/Introduction-Algorithms-Eastern-Economy-Thomas/dp/8120340078/ref=sr_1_4?crid=IG8UGYVPZNZO&keywords=Introduction+to+Algorithms%2C+3Ed.&qid=1651469203&s=books&sprefix=introduction+to+algorithms%2C+3ed.%2Cstripbooks%2C541&sr=1-4) | [PDF](https://github.com/git-clone-abhinav/Books/raw/master/PDSA/3rd%20-%20Thomas%20H.%20Cormen%20-%20Instructor%E2%80%99s%20Manual%20for%20Introduction%20to%20Algorithms%20Third%20Edition.pdf) |\n",
        "3.   Algorithms, by S. Dasgupta, C. H. Papadimitriou and U. V. Vazirani - | [Amazon]() | [PDF](https://github.com/git-clone-abhinav/Books/raw/master/PDSA/Algorithms-S.%20Dasgupta%2C%20C.%20H.%20Papadimitriou%2C%20and%20U.%20V.%20Vazirani-06.pdf) |\n",
        "\n",
        "#### My Personal Suggestion\n",
        "\n",
        "1.   Aditya Bhargava - Grokking Algorithms An illustrated guide for programmers and other curious people  - | [Amazon](https://www.amazon.in/Grokking-Algorithms-illustrated-programmers-curious-ebook/dp/B09781V6F7/ref=sr_1_1?crid=3RJZA03ZQTCLB&keywords=grokking+algorithms&qid=1651471426&sprefix=grokking+algorith%2Caps%2C266&sr=8-1) | [PDF](https://github.com/git-clone-abhinav/Books/raw/master/PDSA/Aditya%20Bhargava%20-%20Grokking%20Algorithms_%20An%20illustrated%20guide%20for%20programmers%20and%20other%20curious%20people-Manning%20Publications%20(2016).pdf) |"
      ],
      "metadata": {
        "id": "FsuoRiuCYWzm"
      }
    },
    {
      "cell_type": "markdown",
      "source": [
        "### View this repository on [GitHub](https://github.com/AbhinavSingh-21f1002369/IITM/blob/main/Programming_Data_Structures_and_Algorithms_using_Python.ipynb)\n",
        "\n",
        "Write to author [here](mailto:abhinav@pichavaram.in)"
      ],
      "metadata": {
        "id": "zJFSyceYYx-f"
      }
    }
  ]
}